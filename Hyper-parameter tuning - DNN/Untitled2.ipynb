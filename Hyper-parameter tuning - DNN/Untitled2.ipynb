{
 "cells": [
  {
   "cell_type": "code",
   "execution_count": 1,
   "metadata": {},
   "outputs": [
    {
     "name": "stderr",
     "output_type": "stream",
     "text": [
      "/home/vinay/securetensor/local/lib/python2.7/site-packages/h5py/__init__.py:36: FutureWarning: Conversion of the second argument of issubdtype from `float` to `np.floating` is deprecated. In future, it will be treated as `np.float64 == np.dtype(float).type`.\n",
      "  from ._conv import register_converters as _register_converters\n",
      "Using TensorFlow backend.\n"
     ]
    }
   ],
   "source": [
    "from keras.models import Sequential\n",
    "from keras.layers import Dense\n",
    "import numpy\n",
    "import pandas as pd"
   ]
  },
  {
   "cell_type": "code",
   "execution_count": 2,
   "metadata": {},
   "outputs": [],
   "source": [
    "dataset = pd.read_csv(\"pima-indians-diabetes.csv\")"
   ]
  },
  {
   "cell_type": "code",
   "execution_count": 3,
   "metadata": {},
   "outputs": [
    {
     "name": "stdout",
     "output_type": "stream",
     "text": [
      "      6  148  72  35    0  33.6  0.627  50  1\n",
      "0     1   85  66  29    0  26.6  0.351  31  0\n",
      "1     8  183  64   0    0  23.3  0.672  32  1\n",
      "2     1   89  66  23   94  28.1  0.167  21  0\n",
      "3     0  137  40  35  168  43.1  2.288  33  1\n",
      "4     5  116  74   0    0  25.6  0.201  30  0\n",
      "5     3   78  50  32   88  31.0  0.248  26  1\n",
      "6    10  115   0   0    0  35.3  0.134  29  0\n",
      "7     2  197  70  45  543  30.5  0.158  53  1\n",
      "8     8  125  96   0    0   0.0  0.232  54  1\n",
      "9     4  110  92   0    0  37.6  0.191  30  0\n",
      "10   10  168  74   0    0  38.0  0.537  34  1\n",
      "11   10  139  80   0    0  27.1  1.441  57  0\n",
      "12    1  189  60  23  846  30.1  0.398  59  1\n",
      "13    5  166  72  19  175  25.8  0.587  51  1\n",
      "14    7  100   0   0    0  30.0  0.484  32  1\n",
      "15    0  118  84  47  230  45.8  0.551  31  1\n",
      "16    7  107  74   0    0  29.6  0.254  31  1\n",
      "17    1  103  30  38   83  43.3  0.183  33  0\n",
      "18    1  115  70  30   96  34.6  0.529  32  1\n",
      "19    3  126  88  41  235  39.3  0.704  27  0\n",
      "20    8   99  84   0    0  35.4  0.388  50  0\n",
      "21    7  196  90   0    0  39.8  0.451  41  1\n",
      "22    9  119  80  35    0  29.0  0.263  29  1\n",
      "23   11  143  94  33  146  36.6  0.254  51  1\n",
      "24   10  125  70  26  115  31.1  0.205  41  1\n",
      "25    7  147  76   0    0  39.4  0.257  43  1\n",
      "26    1   97  66  15  140  23.2  0.487  22  0\n",
      "27   13  145  82  19  110  22.2  0.245  57  0\n",
      "28    5  117  92   0    0  34.1  0.337  38  0\n",
      "29    5  109  75  26    0  36.0  0.546  60  0\n",
      "..   ..  ...  ..  ..  ...   ...    ...  .. ..\n",
      "737   2   99  60  17  160  36.6  0.453  21  0\n",
      "738   1  102  74   0    0  39.5  0.293  42  1\n",
      "739  11  120  80  37  150  42.3  0.785  48  1\n",
      "740   3  102  44  20   94  30.8  0.400  26  0\n",
      "741   1  109  58  18  116  28.5  0.219  22  0\n",
      "742   9  140  94   0    0  32.7  0.734  45  1\n",
      "743  13  153  88  37  140  40.6  1.174  39  0\n",
      "744  12  100  84  33  105  30.0  0.488  46  0\n",
      "745   1  147  94  41    0  49.3  0.358  27  1\n",
      "746   1   81  74  41   57  46.3  1.096  32  0\n",
      "747   3  187  70  22  200  36.4  0.408  36  1\n",
      "748   6  162  62   0    0  24.3  0.178  50  1\n",
      "749   4  136  70   0    0  31.2  1.182  22  1\n",
      "750   1  121  78  39   74  39.0  0.261  28  0\n",
      "751   3  108  62  24    0  26.0  0.223  25  0\n",
      "752   0  181  88  44  510  43.3  0.222  26  1\n",
      "753   8  154  78  32    0  32.4  0.443  45  1\n",
      "754   1  128  88  39  110  36.5  1.057  37  1\n",
      "755   7  137  90  41    0  32.0  0.391  39  0\n",
      "756   0  123  72   0    0  36.3  0.258  52  1\n",
      "757   1  106  76   0    0  37.5  0.197  26  0\n",
      "758   6  190  92   0    0  35.5  0.278  66  1\n",
      "759   2   88  58  26   16  28.4  0.766  22  0\n",
      "760   9  170  74  31    0  44.0  0.403  43  1\n",
      "761   9   89  62   0    0  22.5  0.142  33  0\n",
      "762  10  101  76  48  180  32.9  0.171  63  0\n",
      "763   2  122  70  27    0  36.8  0.340  27  0\n",
      "764   5  121  72  23  112  26.2  0.245  30  0\n",
      "765   1  126  60   0    0  30.1  0.349  47  1\n",
      "766   1   93  70  31    0  30.4  0.315  23  0\n",
      "\n",
      "[767 rows x 9 columns]\n"
     ]
    }
   ],
   "source": [
    "print(dataset)"
   ]
  },
  {
   "cell_type": "code",
   "execution_count": 4,
   "metadata": {},
   "outputs": [
    {
     "ename": "TypeError",
     "evalue": "unhashable type",
     "output_type": "error",
     "traceback": [
      "\u001b[0;31m---------------------------------------------------------------------------\u001b[0m",
      "\u001b[0;31mTypeError\u001b[0m                                 Traceback (most recent call last)",
      "\u001b[0;32m<ipython-input-4-c617e4e24e0b>\u001b[0m in \u001b[0;36m<module>\u001b[0;34m()\u001b[0m\n\u001b[0;32m----> 1\u001b[0;31m \u001b[0mX\u001b[0m \u001b[0;34m=\u001b[0m \u001b[0mdataset\u001b[0m\u001b[0;34m[\u001b[0m\u001b[0;34m:\u001b[0m\u001b[0;34m,\u001b[0m\u001b[0;36m0\u001b[0m\u001b[0;34m:\u001b[0m\u001b[0;36m8\u001b[0m\u001b[0;34m]\u001b[0m\u001b[0;34m\u001b[0m\u001b[0m\n\u001b[0m\u001b[1;32m      2\u001b[0m \u001b[0mY\u001b[0m \u001b[0;34m=\u001b[0m \u001b[0mdataset\u001b[0m\u001b[0;34m[\u001b[0m\u001b[0;34m:\u001b[0m\u001b[0;34m,\u001b[0m\u001b[0;36m8\u001b[0m\u001b[0;34m]\u001b[0m\u001b[0;34m\u001b[0m\u001b[0m\n",
      "\u001b[0;32m/usr/local/lib/python2.7/dist-packages/pandas/core/frame.pyc\u001b[0m in \u001b[0;36m__getitem__\u001b[0;34m(self, key)\u001b[0m\n\u001b[1;32m   1962\u001b[0m             \u001b[0;32mreturn\u001b[0m \u001b[0mself\u001b[0m\u001b[0;34m.\u001b[0m\u001b[0m_getitem_multilevel\u001b[0m\u001b[0;34m(\u001b[0m\u001b[0mkey\u001b[0m\u001b[0;34m)\u001b[0m\u001b[0;34m\u001b[0m\u001b[0m\n\u001b[1;32m   1963\u001b[0m         \u001b[0;32melse\u001b[0m\u001b[0;34m:\u001b[0m\u001b[0;34m\u001b[0m\u001b[0m\n\u001b[0;32m-> 1964\u001b[0;31m             \u001b[0;32mreturn\u001b[0m \u001b[0mself\u001b[0m\u001b[0;34m.\u001b[0m\u001b[0m_getitem_column\u001b[0m\u001b[0;34m(\u001b[0m\u001b[0mkey\u001b[0m\u001b[0;34m)\u001b[0m\u001b[0;34m\u001b[0m\u001b[0m\n\u001b[0m\u001b[1;32m   1965\u001b[0m \u001b[0;34m\u001b[0m\u001b[0m\n\u001b[1;32m   1966\u001b[0m     \u001b[0;32mdef\u001b[0m \u001b[0m_getitem_column\u001b[0m\u001b[0;34m(\u001b[0m\u001b[0mself\u001b[0m\u001b[0;34m,\u001b[0m \u001b[0mkey\u001b[0m\u001b[0;34m)\u001b[0m\u001b[0;34m:\u001b[0m\u001b[0;34m\u001b[0m\u001b[0m\n",
      "\u001b[0;32m/usr/local/lib/python2.7/dist-packages/pandas/core/frame.pyc\u001b[0m in \u001b[0;36m_getitem_column\u001b[0;34m(self, key)\u001b[0m\n\u001b[1;32m   1969\u001b[0m         \u001b[0;31m# get column\u001b[0m\u001b[0;34m\u001b[0m\u001b[0;34m\u001b[0m\u001b[0m\n\u001b[1;32m   1970\u001b[0m         \u001b[0;32mif\u001b[0m \u001b[0mself\u001b[0m\u001b[0;34m.\u001b[0m\u001b[0mcolumns\u001b[0m\u001b[0;34m.\u001b[0m\u001b[0mis_unique\u001b[0m\u001b[0;34m:\u001b[0m\u001b[0;34m\u001b[0m\u001b[0m\n\u001b[0;32m-> 1971\u001b[0;31m             \u001b[0;32mreturn\u001b[0m \u001b[0mself\u001b[0m\u001b[0;34m.\u001b[0m\u001b[0m_get_item_cache\u001b[0m\u001b[0;34m(\u001b[0m\u001b[0mkey\u001b[0m\u001b[0;34m)\u001b[0m\u001b[0;34m\u001b[0m\u001b[0m\n\u001b[0m\u001b[1;32m   1972\u001b[0m \u001b[0;34m\u001b[0m\u001b[0m\n\u001b[1;32m   1973\u001b[0m         \u001b[0;31m# duplicate columns & possible reduce dimensionality\u001b[0m\u001b[0;34m\u001b[0m\u001b[0;34m\u001b[0m\u001b[0m\n",
      "\u001b[0;32m/usr/local/lib/python2.7/dist-packages/pandas/core/generic.pyc\u001b[0m in \u001b[0;36m_get_item_cache\u001b[0;34m(self, item)\u001b[0m\n\u001b[1;32m   1641\u001b[0m         \u001b[0;34m\"\"\"Return the cached item, item represents a label indexer.\"\"\"\u001b[0m\u001b[0;34m\u001b[0m\u001b[0m\n\u001b[1;32m   1642\u001b[0m         \u001b[0mcache\u001b[0m \u001b[0;34m=\u001b[0m \u001b[0mself\u001b[0m\u001b[0;34m.\u001b[0m\u001b[0m_item_cache\u001b[0m\u001b[0;34m\u001b[0m\u001b[0m\n\u001b[0;32m-> 1643\u001b[0;31m         \u001b[0mres\u001b[0m \u001b[0;34m=\u001b[0m \u001b[0mcache\u001b[0m\u001b[0;34m.\u001b[0m\u001b[0mget\u001b[0m\u001b[0;34m(\u001b[0m\u001b[0mitem\u001b[0m\u001b[0;34m)\u001b[0m\u001b[0;34m\u001b[0m\u001b[0m\n\u001b[0m\u001b[1;32m   1644\u001b[0m         \u001b[0;32mif\u001b[0m \u001b[0mres\u001b[0m \u001b[0;32mis\u001b[0m \u001b[0mNone\u001b[0m\u001b[0;34m:\u001b[0m\u001b[0;34m\u001b[0m\u001b[0m\n\u001b[1;32m   1645\u001b[0m             \u001b[0mvalues\u001b[0m \u001b[0;34m=\u001b[0m \u001b[0mself\u001b[0m\u001b[0;34m.\u001b[0m\u001b[0m_data\u001b[0m\u001b[0;34m.\u001b[0m\u001b[0mget\u001b[0m\u001b[0;34m(\u001b[0m\u001b[0mitem\u001b[0m\u001b[0;34m)\u001b[0m\u001b[0;34m\u001b[0m\u001b[0m\n",
      "\u001b[0;31mTypeError\u001b[0m: unhashable type"
     ]
    }
   ],
   "source": [
    "X = dataset[:,0:8]\n",
    "Y = dataset[:,8]"
   ]
  },
  {
   "cell_type": "code",
   "execution_count": null,
   "metadata": {},
   "outputs": [],
   "source": []
  }
 ],
 "metadata": {
  "kernelspec": {
   "display_name": "securetensor",
   "language": "python",
   "name": "securetensor"
  },
  "language_info": {
   "codemirror_mode": {
    "name": "ipython",
    "version": 2
   },
   "file_extension": ".py",
   "mimetype": "text/x-python",
   "name": "python",
   "nbconvert_exporter": "python",
   "pygments_lexer": "ipython2",
   "version": "2.7.12"
  }
 },
 "nbformat": 4,
 "nbformat_minor": 2
}
